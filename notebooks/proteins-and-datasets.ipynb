{
 "cells": [
  {
   "cell_type": "code",
   "execution_count": 3,
   "metadata": {},
   "outputs": [],
   "source": [
    "from docking_benchmark.data.proteins import Protein, get_proteins"
   ]
  },
  {
   "cell_type": "markdown",
   "metadata": {},
   "source": [
    "# Protein"
   ]
  },
  {
   "cell_type": "markdown",
   "metadata": {},
   "source": [
    "`Protein` class is a container for protein related data. It also provides an easy to use interface with abstracted file interaction.\n",
    "\n",
    "Some of the proteins, namely 5HT1B, 5HT2B and ACM2 are already provided in the benchmark. However for your experiments you may want to use your own proteins. This notebook serves as an introduction to how the protein data must be structured to be able to create `Protein` instances and how to use them."
   ]
  },
  {
   "cell_type": "markdown",
   "metadata": {},
   "source": [
    "## Data structure"
   ]
  },
  {
   "cell_type": "markdown",
   "metadata": {},
   "source": [
    "### Protein"
   ]
  },
  {
   "cell_type": "markdown",
   "metadata": {},
   "source": [
    "The class' `__init__` method requires a path to directory with protein data. The most important file that must be present in directory is protein in `.pdbqt` format. **There must be only one file with this extension present in the directory**, otherwise the class will fail to init."
   ]
  },
  {
   "cell_type": "markdown",
   "metadata": {},
   "source": [
    "### Metadata"
   ]
  },
  {
   "cell_type": "markdown",
   "metadata": {},
   "source": [
    "Apart from the protein, `__init__` requires `metadata.json` file to be present in passed directory. `metadata.json` is a file describing various properties of the protein. It should contain a single JSON object.\n",
    "\n",
    "Only one field must be present in the object -- this is `pocket_center`, which must be a list of three floating point numbers. Without it, docking would be impossible, as we would not know at which place the molecule should be actually docked.\n",
    "\n",
    "Currently one more field is supported -- `datasets`. It lists available datasets with protein. Each dataset object must provide path to .csv dataset file relative to protein directory. It may also specify `smiles_column` -- a name of column containing SMILES representation of the molecule and `score_column` -- name of the column with score that model is supposed to optimize.\n",
    "\n",
    "See example `metadata.json` file below for details."
   ]
  },
  {
   "cell_type": "markdown",
   "metadata": {},
   "source": [
    "```json\n",
    "{\n",
    "  \"pocket_center\": [\n",
    "    -16.210,\n",
    "    -15.874,\n",
    "    5.523\n",
    "  ],\n",
    "  \"datasets\": {\n",
    "    \"default\": {\n",
    "      \"path\": \"datasets/default.csv\"\n",
    "    },\n",
    "    \"second\": {\n",
    "        \"path\": \"datasets/second.csv\",\n",
    "        \"smiles_column\": \"smi\"\n",
    "    },\n",
    "    \"third\": {\n",
    "        \"path\": \"datasets/third.csv\",\n",
    "        \"score_column\": \"score\"\n",
    "    }\n",
    "  }\n",
    "}\n",
    "```"
   ]
  },
  {
   "cell_type": "markdown",
   "metadata": {},
   "source": [
    "## Usage"
   ]
  },
  {
   "cell_type": "markdown",
   "metadata": {},
   "source": [
    "To demonstrate usage of `Protein` class we will use one of the built-in proteins."
   ]
  },
  {
   "cell_type": "code",
   "execution_count": 4,
   "metadata": {},
   "outputs": [],
   "source": [
    "protein = get_proteins()['5ht1b']"
   ]
  },
  {
   "cell_type": "markdown",
   "metadata": {},
   "source": [
    "If we want we may access protein's path and metadata directly."
   ]
  },
  {
   "cell_type": "code",
   "execution_count": 5,
   "metadata": {},
   "outputs": [
    {
     "data": {
      "text/plain": [
       "'/home/tobi/edu/magisterka/smina-docking-benchmark//data/proteins_data/5ht1b'"
      ]
     },
     "execution_count": 5,
     "metadata": {},
     "output_type": "execute_result"
    }
   ],
   "source": [
    "protein.directory"
   ]
  },
  {
   "cell_type": "code",
   "execution_count": 6,
   "metadata": {},
   "outputs": [
    {
     "data": {
      "text/plain": [
       "{'datasets': {'default': {'path': 'datasets/sabina.csv'},\n",
       "  'sabina_gauss1': {'path': 'datasets/sabina_actives_inactives_decomposed.csv',\n",
       "   'score_column': 'gauss(o=0__w=0.5__c=8)'},\n",
       "  'sabina_gauss2': {'path': 'datasets/sabina_actives_inactives_decomposed.csv',\n",
       "   'score_column': 'gauss(o=3__w=2__c=8)'},\n",
       "  'sabina_hydrophobic': {'path': 'datasets/sabina_actives_inactives_decomposed.csv',\n",
       "   'score_column': 'hydrophobic(g=0.5__b=1.5__c=8)'},\n",
       "  'sabina_non_dir_h_bond': {'path': 'datasets/sabina_actives_inactives_decomposed.csv',\n",
       "   'score_column': 'non_dir_h_bond(g=-0.7__b=0__c=8)'},\n",
       "  'sabina_repulsion': {'path': 'datasets/sabina_actives_inactives_decomposed.csv',\n",
       "   'score_column': 'repulsion(o=0__c=8)'},\n",
       "  'sabina_physics_plain_gauss': {'path': 'datasets/sabina_different_physics.csv',\n",
       "   'score_column': 'plain_gauss_min'},\n",
       "  'sabina_physics_plain_vdw': {'path': 'datasets/sabina_different_physics.csv',\n",
       "   'score_column': 'plain_vdw_min'},\n",
       "  'sabina_physics_medium_gauss': {'path': 'datasets/sabina_different_physics.csv',\n",
       "   'score_column': 'medium_gauss_min'},\n",
       "  'sabina_physics_medium_vdw': {'path': 'datasets/sabina_different_physics.csv',\n",
       "   'score_column': 'medium_vdw_min'},\n",
       "  'sabina_physics_hard_gauss': {'path': 'datasets/sabina_different_physics.csv',\n",
       "   'score_column': 'hard_gauss_min'},\n",
       "  'sabina_physics_hard_vdw': {'path': 'datasets/sabina_different_physics.csv',\n",
       "   'score_column': 'hard_vdw_min'},\n",
       "  'sabina_physics_hydro_and_non_dir_h_bond': {'path': 'datasets/sabina_different_physics.csv',\n",
       "   'score_column': 'hydro_and_non_dir_h_bond_min'},\n",
       "  'sabina_physics_too_easy': {'path': 'datasets/sabina_different_physics.csv',\n",
       "   'score_column': 'too_easy_min'}},\n",
       " 'pocket_center': [-26.602, 5.277, 17.898]}"
      ]
     },
     "execution_count": 6,
     "metadata": {},
     "output_type": "execute_result"
    }
   ],
   "source": [
    "protein.metadata"
   ]
  },
  {
   "cell_type": "markdown",
   "metadata": {},
   "source": [
    "However, for most use cases, we probably will want to use `dock_smiles_to_protein` method, which in its basic form takes only SMILES to be docked and returns its docking score with all the components calculated by SMINA."
   ]
  },
  {
   "cell_type": "code",
   "execution_count": 7,
   "metadata": {},
   "outputs": [
    {
     "data": {
      "text/plain": [
       "{'intramolecular_energy': -0.31534,\n",
       " 'docking_score': -7.34047,\n",
       " 'gauss(o=0__w=0.5__c=8)': 75.73586,\n",
       " 'gauss(o=3__w=2__c=8)': 980.5655,\n",
       " 'repulsion(o=0__c=8)': 1.16258,\n",
       " 'hydrophobic(g=0.5__b=1.5__c=8)': 42.38931,\n",
       " 'non_dir_h_bond(g=-0.7__b=0__c=8)': 2.08701,\n",
       " 'num_tors_div': 0.0}"
      ]
     },
     "execution_count": 7,
     "metadata": {},
     "output_type": "execute_result"
    }
   ],
   "source": [
    "protein.dock_smiles_to_protein('CCCOc1ccc2[nH]cc(CCN)c2c1')"
   ]
  },
  {
   "cell_type": "markdown",
   "metadata": {},
   "source": [
    "# Datasets"
   ]
  },
  {
   "cell_type": "markdown",
   "metadata": {},
   "source": [
    "`Protein` class also provides `datasets` field, which exposes datasets listed in `metadata.json` file."
   ]
  },
  {
   "cell_type": "code",
   "execution_count": 10,
   "metadata": {},
   "outputs": [],
   "source": [
    "datasets = protein.datasets"
   ]
  },
  {
   "cell_type": "markdown",
   "metadata": {},
   "source": [
    "We may retrieve datasets by using names defined in `metadata.json`."
   ]
  },
  {
   "cell_type": "code",
   "execution_count": 12,
   "metadata": {},
   "outputs": [],
   "source": [
    "smiles, scores = datasets['default']"
   ]
  },
  {
   "cell_type": "code",
   "execution_count": 13,
   "metadata": {},
   "outputs": [
    {
     "data": {
      "text/plain": [
       "['O=C1CN(Cc2ccccc2)CCN1CCCc3c[nH]c4ccc(cc34)n5cnnc5',\n",
       " 'CN(C)CCO\\\\N=C/1\\\\c2cccn2c3c(C)csc13',\n",
       " 'CCC(CC(=O)c1ccc(Cl)c(Cl)c1)N2CCCC2',\n",
       " 'CCC(CC(=O)c1ccc(C)cc1)N2CCCC2',\n",
       " 'Fc1ccc(cc1)C(=O)C2CCN(CCN3C(=O)Nc4ccccc4C3=O)CC2']"
      ]
     },
     "execution_count": 13,
     "metadata": {},
     "output_type": "execute_result"
    }
   ],
   "source": [
    "smiles[:5]"
   ]
  },
  {
   "cell_type": "code",
   "execution_count": 14,
   "metadata": {},
   "outputs": [
    {
     "data": {
      "text/plain": [
       "array([-10.1,  -7. ,  -7.6,  -7.5, -10.4])"
      ]
     },
     "execution_count": 14,
     "metadata": {},
     "output_type": "execute_result"
    }
   ],
   "source": [
    "scores[:5]"
   ]
  },
  {
   "cell_type": "markdown",
   "metadata": {},
   "source": [
    "If we don't want to use score predefined in `metadata.json`, we can use the `with_linear_combination_score` method. It allows as to return the dataset with any linear combination of columns in .csv file."
   ]
  },
  {
   "cell_type": "code",
   "execution_count": 16,
   "metadata": {},
   "outputs": [],
   "source": [
    "components = {\n",
    "    'gauss(o=0__w=0.5__c=8)': 0.5,\n",
    "    'hydrophobic(g=0.5__b=1.5__c=8)': 0.7\n",
    "}\n",
    "smiles, scores = datasets.with_linear_combination_score('sabina_gauss1', **components)"
   ]
  },
  {
   "cell_type": "code",
   "execution_count": 17,
   "metadata": {},
   "outputs": [
    {
     "data": {
      "text/plain": [
       "0    Cn1nccc1c2ccc3c(c2)c(cn3c4ccc(F)cc4)C5CCN(CCN6...\n",
       "1                                 CCNCCOc1cccc2ccccc12\n",
       "2    C(CN1CCC(CNc2ccccn2)CC1)Cc3c[nH]c4ccc(cc34)n5c...\n",
       "3    OC1(CNCc2ccccn2)CCN(CCCc3c[nH]c4ccc(cc34)n5cnn...\n",
       "4    Cc1ccc2c(cccc2n1)N3CCN(CCc4cccc(NC(=O)c5cccc(F...\n",
       "Name: SMILES, dtype: object"
      ]
     },
     "execution_count": 17,
     "metadata": {},
     "output_type": "execute_result"
    }
   ],
   "source": [
    "smiles[:5]"
   ]
  },
  {
   "cell_type": "code",
   "execution_count": 18,
   "metadata": {},
   "outputs": [
    {
     "data": {
      "text/plain": [
       "array([103.629411,  72.859272,  88.903178,  87.801484, 125.000313])"
      ]
     },
     "execution_count": 18,
     "metadata": {},
     "output_type": "execute_result"
    }
   ],
   "source": [
    "scores[:5]"
   ]
  },
  {
   "cell_type": "markdown",
   "metadata": {},
   "source": [
    "If column names contain illegal characters that cannot be used in keyword argument name, just like above, use kwargs unpacking."
   ]
  }
 ],
 "metadata": {
  "kernelspec": {
   "display_name": "Python 3",
   "language": "python",
   "name": "python3"
  },
  "language_info": {
   "codemirror_mode": {
    "name": "ipython",
    "version": 3
   },
   "file_extension": ".py",
   "mimetype": "text/x-python",
   "name": "python",
   "nbconvert_exporter": "python",
   "pygments_lexer": "ipython3",
   "version": "3.6.9"
  }
 },
 "nbformat": 4,
 "nbformat_minor": 2
}
